{
 "cells": [
  {
   "cell_type": "code",
   "execution_count": 145,
   "metadata": {},
   "outputs": [],
   "source": [
    "import pandas as pd"
   ]
  },
  {
   "cell_type": "code",
   "execution_count": 146,
   "metadata": {},
   "outputs": [],
   "source": [
    "data = 'Airline Code;DelayTimes;FlightCodes;To_From\\nAir Canada (!);[21, 40];20015.0;WAterLoo_NEWYork\\n<Air France> (12);[];;Montreal_TORONTO\\n(Porter Airways. );[60, 22, 87];20035.0;CALgary_Ottawa\\n12. Air France;[78, 66];;Ottawa_VANcouvER\\n\"\"\".\\\\.Lufthansa.\\\\.\"\"\";[12, 33];20055.0;london_MONTreal\\n'"
   ]
  },
  {
   "cell_type": "code",
   "execution_count": 147,
   "metadata": {},
   "outputs": [],
   "source": [
    "data = data.split(\"\\n\")"
   ]
  },
  {
   "cell_type": "code",
   "execution_count": 148,
   "metadata": {},
   "outputs": [],
   "source": [
    "header = data[0].split(\";\")"
   ]
  },
  {
   "cell_type": "code",
   "execution_count": 149,
   "metadata": {},
   "outputs": [],
   "source": [
    "to_from = header[3].split(\"_\")\n",
    "header[3] = to_from[0]\n",
    "header.append(to_from[1])"
   ]
  },
  {
   "cell_type": "code",
   "execution_count": 150,
   "metadata": {},
   "outputs": [],
   "source": [
    "flight_data = (data[1:-1])\n",
    "final_data = []"
   ]
  },
  {
   "cell_type": "code",
   "execution_count": 151,
   "metadata": {},
   "outputs": [],
   "source": [
    "flight_code = [int(float(flight_data[0].split(\";\")[2])) + 10*x for x in range(len(flight_data))]\n",
    "\n",
    "# loop through the data and perform data cleaning\n",
    "for idx, flight in enumerate(flight_data):\n",
    "    row = flight.split(\";\")\n",
    "    row[0] = ''.join(x for x in row[0] if x.isalpha())\n",
    "    row[2] = flight_code[idx]\n",
    "    temp = row[3].split(\"_\")\n",
    "    row[3] = temp[0].upper()\n",
    "    row.append(temp[1].upper())\n",
    "    final_data.append(row)\n",
    "df = pd.DataFrame(final_data, columns=header) # create a dataframe with cleaned data"
   ]
  },
  {
   "cell_type": "code",
   "execution_count": 153,
   "metadata": {},
   "outputs": [
    {
     "name": "stdout",
     "output_type": "stream",
     "text": [
      "    Airline Code    DelayTimes  FlightCodes        To       From\n",
      "0      AirCanada      [21, 40]        20015  WATERLOO    NEWYORK\n",
      "1      AirFrance            []        20025  MONTREAL    TORONTO\n",
      "2  PorterAirways  [60, 22, 87]        20035   CALGARY     OTTAWA\n",
      "3      AirFrance      [78, 66]        20045    OTTAWA  VANCOUVER\n",
      "4      Lufthansa      [12, 33]        20055    LONDON   MONTREAL\n"
     ]
    }
   ],
   "source": [
    "print(df)"
   ]
  }
 ],
 "metadata": {
  "kernelspec": {
   "display_name": "Python 3",
   "language": "python",
   "name": "python3"
  },
  "language_info": {
   "codemirror_mode": {
    "name": "ipython",
    "version": 3
   },
   "file_extension": ".py",
   "mimetype": "text/x-python",
   "name": "python",
   "nbconvert_exporter": "python",
   "pygments_lexer": "ipython3",
   "version": "3.8.5"
  }
 },
 "nbformat": 4,
 "nbformat_minor": 4
}
